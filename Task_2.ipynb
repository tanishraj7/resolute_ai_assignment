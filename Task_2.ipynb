{
 "cells": [
  {
   "cell_type": "code",
   "execution_count": 1,
   "id": "402e8f97",
   "metadata": {},
   "outputs": [],
   "source": [
    "#document extraction from pdf and storing in JSON script"
   ]
  },
  {
   "cell_type": "code",
   "execution_count": 2,
   "id": "8824d8c6",
   "metadata": {},
   "outputs": [],
   "source": [
    "import pdfplumber\n",
    "import json\n",
    "import os"
   ]
  },
  {
   "cell_type": "code",
   "execution_count": 4,
   "id": "2f6d0af4",
   "metadata": {},
   "outputs": [
    {
     "name": "stdout",
     "output_type": "stream",
     "text": [
      "Enter the path of the PDF file: Document Extraction 1.pdf \n",
      "Extraction complete. JSON saved at output.json\n"
     ]
    }
   ],
   "source": [
    "def extract_text_from_pdf(pdf_path):\n",
    "    extracted_data = {}\n",
    "    list_items = []\n",
    "    \n",
    "    if not os.path.exists(pdf_path):\n",
    "        raise FileNotFoundError(\"PDF file not found.\")\n",
    "    \n",
    "    with pdfplumber.open(pdf_path) as pdf:\n",
    "        for page in pdf.pages:\n",
    "            text = page.extract_text()\n",
    "            tables = page.extract_table()\n",
    "            \n",
    "            if text:\n",
    "                extracted_data[f'Page_{page.page_number}'] = text.strip()\n",
    "                \n",
    "            if tables:\n",
    "                for table in tables:\n",
    "                    list_items.append(table)\n",
    "    \n",
    "    output_json = {\n",
    "        \"Headers\": extracted_data,\n",
    "        \"List_Items\": list_items\n",
    "    }\n",
    "    \n",
    "    return output_json\n",
    "\n",
    "\n",
    "def save_json(output_data, output_path):\n",
    "    with open(output_path, \"w\", encoding=\"utf-8\") as json_file:\n",
    "        json.dump(output_data, json_file, indent=4, ensure_ascii=False)\n",
    "\n",
    "if __name__ == \"__main__\":\n",
    "    pdf_path = input(\"Enter the path of the PDF file: \")\n",
    "    output_json_path = \"output.json\"\n",
    "    \n",
    "    try:\n",
    "        extracted_content = extract_text_from_pdf(pdf_path)\n",
    "        save_json(extracted_content, output_json_path)\n",
    "        print(f\"Extraction complete. JSON saved at {output_json_path}\")\n",
    "    except Exception as e:\n",
    "        print(f\"Error: {e}\")"
   ]
  },
  {
   "cell_type": "code",
   "execution_count": null,
   "id": "b0a7e554",
   "metadata": {},
   "outputs": [],
   "source": []
  }
 ],
 "metadata": {
  "kernelspec": {
   "display_name": "Python 3 (ipykernel)",
   "language": "python",
   "name": "python3"
  },
  "language_info": {
   "codemirror_mode": {
    "name": "ipython",
    "version": 3
   },
   "file_extension": ".py",
   "mimetype": "text/x-python",
   "name": "python",
   "nbconvert_exporter": "python",
   "pygments_lexer": "ipython3",
   "version": "3.10.9"
  }
 },
 "nbformat": 4,
 "nbformat_minor": 5
}
